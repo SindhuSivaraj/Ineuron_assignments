{
 "cells": [
  {
   "cell_type": "code",
   "execution_count": 2,
   "id": "c9f97a7c",
   "metadata": {},
   "outputs": [
    {
     "name": "stdout",
     "output_type": "stream",
     "text": [
      "Hello Python\n"
     ]
    }
   ],
   "source": [
    "#1.Write a Python program to print \"Hello Python\" ?\n",
    "\n",
    "print(\"Hello Python\")"
   ]
  },
  {
   "cell_type": "code",
   "execution_count": 3,
   "id": "75e6d989",
   "metadata": {},
   "outputs": [
    {
     "name": "stdout",
     "output_type": "stream",
     "text": [
      "200 30\n"
     ]
    }
   ],
   "source": [
    "#2. Write a Python program to do arithmetical operations addition and division.?\n",
    "\n",
    "a = 20\n",
    "b = 10\n",
    "\n",
    "print(a*b, a+b)"
   ]
  },
  {
   "cell_type": "code",
   "execution_count": 6,
   "id": "c6af3141",
   "metadata": {},
   "outputs": [
    {
     "name": "stdout",
     "output_type": "stream",
     "text": [
      "36.0\n"
     ]
    }
   ],
   "source": [
    "#3.Write a Python program to find the area of a triangle?\n",
    "\n",
    "l = 12\n",
    "h = 6\n",
    "\n",
    "area = l*h/2\n",
    "\n",
    "print(area)"
   ]
  },
  {
   "cell_type": "code",
   "execution_count": 10,
   "id": "ad8df808",
   "metadata": {},
   "outputs": [
    {
     "name": "stdout",
     "output_type": "stream",
     "text": [
      "The value of x after swapping is  25 and y is  10\n"
     ]
    }
   ],
   "source": [
    "#4.Write a Python program to swap two variables?\n",
    "\n",
    "x = 10\n",
    "y = 25\n",
    "\n",
    "z = x\n",
    "x = y\n",
    "y = z\n",
    "\n",
    "print (\"The value of x after swapping is \" ,x, \"and y is \" ,y)"
   ]
  },
  {
   "cell_type": "code",
   "execution_count": 12,
   "id": "942d0c0a",
   "metadata": {},
   "outputs": [
    {
     "name": "stdout",
     "output_type": "stream",
     "text": [
      "36\n"
     ]
    }
   ],
   "source": [
    "#5. Write a Python program to generate a random number?\n",
    "\n",
    "import random\n",
    "n = random.randint(0,100)\n",
    "print(n)"
   ]
  }
 ],
 "metadata": {
  "kernelspec": {
   "display_name": "Python 3 (ipykernel)",
   "language": "python",
   "name": "python3"
  },
  "language_info": {
   "codemirror_mode": {
    "name": "ipython",
    "version": 3
   },
   "file_extension": ".py",
   "mimetype": "text/x-python",
   "name": "python",
   "nbconvert_exporter": "python",
   "pygments_lexer": "ipython3",
   "version": "3.9.7"
  }
 },
 "nbformat": 4,
 "nbformat_minor": 5
}
